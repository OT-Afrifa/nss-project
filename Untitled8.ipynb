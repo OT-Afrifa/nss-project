{
 "cells": [
  {
   "cell_type": "code",
   "execution_count": 1,
   "id": "cdd36ba9",
   "metadata": {},
   "outputs": [],
   "source": [
    "import pandas as pd\n",
    "import numpy as np"
   ]
  },
  {
   "cell_type": "code",
   "execution_count": 2,
   "id": "d5f8a113",
   "metadata": {},
   "outputs": [],
   "source": [
    "dates = pd.date_range('2022-01-01', '2022-01-06', freq='D')\n",
    "df1 = pd.DataFrame(np.random.randn(6,4), index = dates, columns=list(('ASK1','ASK2','ASK3','ASK4')))\n",
    "df2 = pd.DataFrame (\n",
    "    {\n",
    "\n",
    "        \"A\": 1.0,\n",
    "\n",
    "        \"B\": pd.date_range(\"2013-01-02\",\"2013-01-05\", freq='D'),\n",
    "\n",
    "        \"C\": pd.Series(1, index=list(range(4)), dtype=\"float32\"),\n",
    "\n",
    "        \"D\": np.array([3] * 4, dtype=\"int32\"),\n",
    "\n",
    "        \"E\": pd.Categorical([\"test\", \"train\", \"test\", \"train\"]),\n",
    "\n",
    "        \"F\": \"foo\",\n",
    "\n",
    "    }\n",
    ")"
   ]
  },
  {
   "cell_type": "code",
   "execution_count": 3,
   "id": "82f73757",
   "metadata": {},
   "outputs": [
    {
     "data": {
      "text/plain": [
       "A           float64\n",
       "B    datetime64[ns]\n",
       "C           float32\n",
       "D             int32\n",
       "E          category\n",
       "F            object\n",
       "dtype: object"
      ]
     },
     "execution_count": 3,
     "metadata": {},
     "output_type": "execute_result"
    }
   ],
   "source": [
    "df2.dtypes"
   ]
  },
  {
   "cell_type": "code",
   "execution_count": 4,
   "id": "5b64cd6b",
   "metadata": {},
   "outputs": [
    {
     "data": {
      "text/html": [
       "<div>\n",
       "<style scoped>\n",
       "    .dataframe tbody tr th:only-of-type {\n",
       "        vertical-align: middle;\n",
       "    }\n",
       "\n",
       "    .dataframe tbody tr th {\n",
       "        vertical-align: top;\n",
       "    }\n",
       "\n",
       "    .dataframe thead th {\n",
       "        text-align: right;\n",
       "    }\n",
       "</style>\n",
       "<table border=\"1\" class=\"dataframe\">\n",
       "  <thead>\n",
       "    <tr style=\"text-align: right;\">\n",
       "      <th></th>\n",
       "      <th>A</th>\n",
       "      <th>C</th>\n",
       "      <th>D</th>\n",
       "    </tr>\n",
       "  </thead>\n",
       "  <tbody>\n",
       "    <tr>\n",
       "      <th>count</th>\n",
       "      <td>4.0</td>\n",
       "      <td>4.0</td>\n",
       "      <td>4.0</td>\n",
       "    </tr>\n",
       "    <tr>\n",
       "      <th>mean</th>\n",
       "      <td>1.0</td>\n",
       "      <td>1.0</td>\n",
       "      <td>3.0</td>\n",
       "    </tr>\n",
       "    <tr>\n",
       "      <th>std</th>\n",
       "      <td>0.0</td>\n",
       "      <td>0.0</td>\n",
       "      <td>0.0</td>\n",
       "    </tr>\n",
       "    <tr>\n",
       "      <th>min</th>\n",
       "      <td>1.0</td>\n",
       "      <td>1.0</td>\n",
       "      <td>3.0</td>\n",
       "    </tr>\n",
       "    <tr>\n",
       "      <th>25%</th>\n",
       "      <td>1.0</td>\n",
       "      <td>1.0</td>\n",
       "      <td>3.0</td>\n",
       "    </tr>\n",
       "    <tr>\n",
       "      <th>50%</th>\n",
       "      <td>1.0</td>\n",
       "      <td>1.0</td>\n",
       "      <td>3.0</td>\n",
       "    </tr>\n",
       "    <tr>\n",
       "      <th>75%</th>\n",
       "      <td>1.0</td>\n",
       "      <td>1.0</td>\n",
       "      <td>3.0</td>\n",
       "    </tr>\n",
       "    <tr>\n",
       "      <th>max</th>\n",
       "      <td>1.0</td>\n",
       "      <td>1.0</td>\n",
       "      <td>3.0</td>\n",
       "    </tr>\n",
       "  </tbody>\n",
       "</table>\n",
       "</div>"
      ],
      "text/plain": [
       "         A    C    D\n",
       "count  4.0  4.0  4.0\n",
       "mean   1.0  1.0  3.0\n",
       "std    0.0  0.0  0.0\n",
       "min    1.0  1.0  3.0\n",
       "25%    1.0  1.0  3.0\n",
       "50%    1.0  1.0  3.0\n",
       "75%    1.0  1.0  3.0\n",
       "max    1.0  1.0  3.0"
      ]
     },
     "execution_count": 4,
     "metadata": {},
     "output_type": "execute_result"
    }
   ],
   "source": [
    "df2.describe()"
   ]
  },
  {
   "cell_type": "code",
   "execution_count": 5,
   "id": "a0292fd4",
   "metadata": {},
   "outputs": [
    {
     "data": {
      "text/plain": [
       "array([[1.0, Timestamp('2013-01-02 00:00:00'), 1.0, 3, 'test', 'foo'],\n",
       "       [1.0, Timestamp('2013-01-03 00:00:00'), 1.0, 3, 'train', 'foo'],\n",
       "       [1.0, Timestamp('2013-01-04 00:00:00'), 1.0, 3, 'test', 'foo'],\n",
       "       [1.0, Timestamp('2013-01-05 00:00:00'), 1.0, 3, 'train', 'foo']],\n",
       "      dtype=object)"
      ]
     },
     "execution_count": 5,
     "metadata": {},
     "output_type": "execute_result"
    }
   ],
   "source": [
    "df2.to_numpy()"
   ]
  },
  {
   "cell_type": "code",
   "execution_count": 6,
   "id": "8cb501ad",
   "metadata": {},
   "outputs": [
    {
     "data": {
      "text/html": [
       "<div>\n",
       "<style scoped>\n",
       "    .dataframe tbody tr th:only-of-type {\n",
       "        vertical-align: middle;\n",
       "    }\n",
       "\n",
       "    .dataframe tbody tr th {\n",
       "        vertical-align: top;\n",
       "    }\n",
       "\n",
       "    .dataframe thead th {\n",
       "        text-align: right;\n",
       "    }\n",
       "</style>\n",
       "<table border=\"1\" class=\"dataframe\">\n",
       "  <thead>\n",
       "    <tr style=\"text-align: right;\">\n",
       "      <th></th>\n",
       "      <th>F</th>\n",
       "      <th>E</th>\n",
       "      <th>D</th>\n",
       "      <th>C</th>\n",
       "      <th>B</th>\n",
       "      <th>A</th>\n",
       "    </tr>\n",
       "  </thead>\n",
       "  <tbody>\n",
       "    <tr>\n",
       "      <th>0</th>\n",
       "      <td>foo</td>\n",
       "      <td>test</td>\n",
       "      <td>3</td>\n",
       "      <td>1.0</td>\n",
       "      <td>2013-01-02</td>\n",
       "      <td>1.0</td>\n",
       "    </tr>\n",
       "    <tr>\n",
       "      <th>1</th>\n",
       "      <td>foo</td>\n",
       "      <td>train</td>\n",
       "      <td>3</td>\n",
       "      <td>1.0</td>\n",
       "      <td>2013-01-03</td>\n",
       "      <td>1.0</td>\n",
       "    </tr>\n",
       "    <tr>\n",
       "      <th>2</th>\n",
       "      <td>foo</td>\n",
       "      <td>test</td>\n",
       "      <td>3</td>\n",
       "      <td>1.0</td>\n",
       "      <td>2013-01-04</td>\n",
       "      <td>1.0</td>\n",
       "    </tr>\n",
       "    <tr>\n",
       "      <th>3</th>\n",
       "      <td>foo</td>\n",
       "      <td>train</td>\n",
       "      <td>3</td>\n",
       "      <td>1.0</td>\n",
       "      <td>2013-01-05</td>\n",
       "      <td>1.0</td>\n",
       "    </tr>\n",
       "  </tbody>\n",
       "</table>\n",
       "</div>"
      ],
      "text/plain": [
       "     F      E  D    C          B    A\n",
       "0  foo   test  3  1.0 2013-01-02  1.0\n",
       "1  foo  train  3  1.0 2013-01-03  1.0\n",
       "2  foo   test  3  1.0 2013-01-04  1.0\n",
       "3  foo  train  3  1.0 2013-01-05  1.0"
      ]
     },
     "execution_count": 6,
     "metadata": {},
     "output_type": "execute_result"
    }
   ],
   "source": [
    "df2.sort_index(axis=1, ascending=False)"
   ]
  },
  {
   "cell_type": "code",
   "execution_count": 7,
   "id": "7e282bd0",
   "metadata": {},
   "outputs": [
    {
     "data": {
      "text/html": [
       "<div>\n",
       "<style scoped>\n",
       "    .dataframe tbody tr th:only-of-type {\n",
       "        vertical-align: middle;\n",
       "    }\n",
       "\n",
       "    .dataframe tbody tr th {\n",
       "        vertical-align: top;\n",
       "    }\n",
       "\n",
       "    .dataframe thead th {\n",
       "        text-align: right;\n",
       "    }\n",
       "</style>\n",
       "<table border=\"1\" class=\"dataframe\">\n",
       "  <thead>\n",
       "    <tr style=\"text-align: right;\">\n",
       "      <th></th>\n",
       "      <th>ASK1</th>\n",
       "      <th>ASK2</th>\n",
       "      <th>ASK3</th>\n",
       "      <th>ASK4</th>\n",
       "    </tr>\n",
       "  </thead>\n",
       "  <tbody>\n",
       "    <tr>\n",
       "      <th>2022-01-06</th>\n",
       "      <td>-1.165451</td>\n",
       "      <td>-0.965469</td>\n",
       "      <td>-0.545331</td>\n",
       "      <td>1.525140</td>\n",
       "    </tr>\n",
       "    <tr>\n",
       "      <th>2022-01-02</th>\n",
       "      <td>1.301711</td>\n",
       "      <td>-0.274784</td>\n",
       "      <td>0.578050</td>\n",
       "      <td>-0.876911</td>\n",
       "    </tr>\n",
       "    <tr>\n",
       "      <th>2022-01-03</th>\n",
       "      <td>0.672871</td>\n",
       "      <td>-0.274749</td>\n",
       "      <td>-1.175964</td>\n",
       "      <td>0.949196</td>\n",
       "    </tr>\n",
       "    <tr>\n",
       "      <th>2022-01-01</th>\n",
       "      <td>-1.330286</td>\n",
       "      <td>0.215210</td>\n",
       "      <td>-1.502953</td>\n",
       "      <td>0.031244</td>\n",
       "    </tr>\n",
       "    <tr>\n",
       "      <th>2022-01-05</th>\n",
       "      <td>0.589980</td>\n",
       "      <td>0.417643</td>\n",
       "      <td>-0.469700</td>\n",
       "      <td>-1.181372</td>\n",
       "    </tr>\n",
       "    <tr>\n",
       "      <th>2022-01-04</th>\n",
       "      <td>-0.386845</td>\n",
       "      <td>1.498891</td>\n",
       "      <td>0.566511</td>\n",
       "      <td>0.198761</td>\n",
       "    </tr>\n",
       "  </tbody>\n",
       "</table>\n",
       "</div>"
      ],
      "text/plain": [
       "                ASK1      ASK2      ASK3      ASK4\n",
       "2022-01-06 -1.165451 -0.965469 -0.545331  1.525140\n",
       "2022-01-02  1.301711 -0.274784  0.578050 -0.876911\n",
       "2022-01-03  0.672871 -0.274749 -1.175964  0.949196\n",
       "2022-01-01 -1.330286  0.215210 -1.502953  0.031244\n",
       "2022-01-05  0.589980  0.417643 -0.469700 -1.181372\n",
       "2022-01-04 -0.386845  1.498891  0.566511  0.198761"
      ]
     },
     "execution_count": 7,
     "metadata": {},
     "output_type": "execute_result"
    }
   ],
   "source": [
    "df1.sort_values(by=(\"ask2\").upper())"
   ]
  },
  {
   "cell_type": "code",
   "execution_count": 8,
   "id": "33c66476",
   "metadata": {},
   "outputs": [
    {
     "data": {
      "text/plain": [
       "Timestamp('2031-01-01 00:00:00', freq='M')"
      ]
     },
     "execution_count": 8,
     "metadata": {},
     "output_type": "execute_result"
    }
   ],
   "source": [
    "pd.Timestamp('20310101', 'm')"
   ]
  },
  {
   "cell_type": "code",
   "execution_count": 9,
   "id": "22cc7601",
   "metadata": {},
   "outputs": [
    {
     "data": {
      "text/plain": [
       "0.14184149359347759"
      ]
     },
     "execution_count": 9,
     "metadata": {},
     "output_type": "execute_result"
    }
   ],
   "source": [
    "np.random.randn()"
   ]
  },
  {
   "cell_type": "code",
   "execution_count": 10,
   "id": "1dda3743",
   "metadata": {},
   "outputs": [
    {
     "data": {
      "text/plain": [
       "0    3.5\n",
       "1    4.5\n",
       "2    5.5\n",
       "3    6.5\n",
       "dtype: float32"
      ]
     },
     "execution_count": 10,
     "metadata": {},
     "output_type": "execute_result"
    }
   ],
   "source": [
    "pd.Series(np.arange(3.5,7.5), index=list(range(4)), dtype=\"float32\")\n"
   ]
  },
  {
   "cell_type": "code",
   "execution_count": 11,
   "id": "5d5f2d06",
   "metadata": {},
   "outputs": [
    {
     "data": {
      "text/html": [
       "<div>\n",
       "<style scoped>\n",
       "    .dataframe tbody tr th:only-of-type {\n",
       "        vertical-align: middle;\n",
       "    }\n",
       "\n",
       "    .dataframe tbody tr th {\n",
       "        vertical-align: top;\n",
       "    }\n",
       "\n",
       "    .dataframe thead th {\n",
       "        text-align: right;\n",
       "    }\n",
       "</style>\n",
       "<table border=\"1\" class=\"dataframe\">\n",
       "  <thead>\n",
       "    <tr style=\"text-align: right;\">\n",
       "      <th></th>\n",
       "      <th>ASK1</th>\n",
       "      <th>ASK2</th>\n",
       "      <th>ASK3</th>\n",
       "      <th>ASK4</th>\n",
       "    </tr>\n",
       "  </thead>\n",
       "  <tbody>\n",
       "    <tr>\n",
       "      <th>2022-01-01</th>\n",
       "      <td>-1.330286</td>\n",
       "      <td>0.215210</td>\n",
       "      <td>-1.502953</td>\n",
       "      <td>0.031244</td>\n",
       "    </tr>\n",
       "    <tr>\n",
       "      <th>2022-01-02</th>\n",
       "      <td>1.301711</td>\n",
       "      <td>-0.274784</td>\n",
       "      <td>0.578050</td>\n",
       "      <td>-0.876911</td>\n",
       "    </tr>\n",
       "    <tr>\n",
       "      <th>2022-01-03</th>\n",
       "      <td>0.672871</td>\n",
       "      <td>-0.274749</td>\n",
       "      <td>-1.175964</td>\n",
       "      <td>0.949196</td>\n",
       "    </tr>\n",
       "    <tr>\n",
       "      <th>2022-01-04</th>\n",
       "      <td>-0.386845</td>\n",
       "      <td>1.498891</td>\n",
       "      <td>0.566511</td>\n",
       "      <td>0.198761</td>\n",
       "    </tr>\n",
       "    <tr>\n",
       "      <th>2022-01-05</th>\n",
       "      <td>0.589980</td>\n",
       "      <td>0.417643</td>\n",
       "      <td>-0.469700</td>\n",
       "      <td>-1.181372</td>\n",
       "    </tr>\n",
       "    <tr>\n",
       "      <th>2022-01-06</th>\n",
       "      <td>-1.165451</td>\n",
       "      <td>-0.965469</td>\n",
       "      <td>-0.545331</td>\n",
       "      <td>1.525140</td>\n",
       "    </tr>\n",
       "  </tbody>\n",
       "</table>\n",
       "</div>"
      ],
      "text/plain": [
       "                ASK1      ASK2      ASK3      ASK4\n",
       "2022-01-01 -1.330286  0.215210 -1.502953  0.031244\n",
       "2022-01-02  1.301711 -0.274784  0.578050 -0.876911\n",
       "2022-01-03  0.672871 -0.274749 -1.175964  0.949196\n",
       "2022-01-04 -0.386845  1.498891  0.566511  0.198761\n",
       "2022-01-05  0.589980  0.417643 -0.469700 -1.181372\n",
       "2022-01-06 -1.165451 -0.965469 -0.545331  1.525140"
      ]
     },
     "execution_count": 11,
     "metadata": {},
     "output_type": "execute_result"
    }
   ],
   "source": [
    "df1"
   ]
  },
  {
   "cell_type": "code",
   "execution_count": 12,
   "id": "ca025176",
   "metadata": {},
   "outputs": [
    {
     "data": {
      "text/plain": [
       "0.21520962904303623"
      ]
     },
     "execution_count": 12,
     "metadata": {},
     "output_type": "execute_result"
    }
   ],
   "source": [
    "df1.loc[dates[0], 'ASK2']"
   ]
  },
  {
   "cell_type": "code",
   "execution_count": 13,
   "id": "03fe5f60",
   "metadata": {},
   "outputs": [
    {
     "data": {
      "text/plain": [
       "-1.502953481527039"
      ]
     },
     "execution_count": 13,
     "metadata": {},
     "output_type": "execute_result"
    }
   ],
   "source": [
    "df1.at[dates[0], 'ASK3']"
   ]
  },
  {
   "cell_type": "code",
   "execution_count": 14,
   "id": "deafb8a4",
   "metadata": {},
   "outputs": [
    {
     "data": {
      "text/html": [
       "<div>\n",
       "<style scoped>\n",
       "    .dataframe tbody tr th:only-of-type {\n",
       "        vertical-align: middle;\n",
       "    }\n",
       "\n",
       "    .dataframe tbody tr th {\n",
       "        vertical-align: top;\n",
       "    }\n",
       "\n",
       "    .dataframe thead th {\n",
       "        text-align: right;\n",
       "    }\n",
       "</style>\n",
       "<table border=\"1\" class=\"dataframe\">\n",
       "  <thead>\n",
       "    <tr style=\"text-align: right;\">\n",
       "      <th></th>\n",
       "      <th>ASK1</th>\n",
       "      <th>ASK4</th>\n",
       "    </tr>\n",
       "  </thead>\n",
       "  <tbody>\n",
       "    <tr>\n",
       "      <th>2022-01-04</th>\n",
       "      <td>-0.386845</td>\n",
       "      <td>0.198761</td>\n",
       "    </tr>\n",
       "    <tr>\n",
       "      <th>2022-01-05</th>\n",
       "      <td>0.589980</td>\n",
       "      <td>-1.181372</td>\n",
       "    </tr>\n",
       "  </tbody>\n",
       "</table>\n",
       "</div>"
      ],
      "text/plain": [
       "                ASK1      ASK4\n",
       "2022-01-04 -0.386845  0.198761\n",
       "2022-01-05  0.589980 -1.181372"
      ]
     },
     "execution_count": 14,
     "metadata": {},
     "output_type": "execute_result"
    }
   ],
   "source": [
    "df1.iloc[[3,4], [0,3]]"
   ]
  },
  {
   "cell_type": "code",
   "execution_count": 15,
   "id": "53d03373",
   "metadata": {},
   "outputs": [
    {
     "data": {
      "text/plain": [
       "-0.2747841691919098"
      ]
     },
     "execution_count": 15,
     "metadata": {},
     "output_type": "execute_result"
    }
   ],
   "source": [
    "df1.iat[1, 1]"
   ]
  },
  {
   "cell_type": "code",
   "execution_count": 16,
   "id": "96905c7f",
   "metadata": {},
   "outputs": [],
   "source": [
    "df3 = df1.copy()\n",
    "df3[\"E\"] = [\"one\", \"one\", \"two\", \"three\", \"four\", \"three\"]\n"
   ]
  },
  {
   "cell_type": "code",
   "execution_count": 17,
   "id": "d5200e8b",
   "metadata": {},
   "outputs": [
    {
     "data": {
      "text/html": [
       "<div>\n",
       "<style scoped>\n",
       "    .dataframe tbody tr th:only-of-type {\n",
       "        vertical-align: middle;\n",
       "    }\n",
       "\n",
       "    .dataframe tbody tr th {\n",
       "        vertical-align: top;\n",
       "    }\n",
       "\n",
       "    .dataframe thead th {\n",
       "        text-align: right;\n",
       "    }\n",
       "</style>\n",
       "<table border=\"1\" class=\"dataframe\">\n",
       "  <thead>\n",
       "    <tr style=\"text-align: right;\">\n",
       "      <th></th>\n",
       "      <th>ASK1</th>\n",
       "      <th>ASK2</th>\n",
       "      <th>ASK3</th>\n",
       "      <th>ASK4</th>\n",
       "      <th>E</th>\n",
       "    </tr>\n",
       "  </thead>\n",
       "  <tbody>\n",
       "    <tr>\n",
       "      <th>2022-01-01</th>\n",
       "      <td>-1.330286</td>\n",
       "      <td>0.215210</td>\n",
       "      <td>-1.502953</td>\n",
       "      <td>0.031244</td>\n",
       "      <td>one</td>\n",
       "    </tr>\n",
       "    <tr>\n",
       "      <th>2022-01-02</th>\n",
       "      <td>1.301711</td>\n",
       "      <td>-0.274784</td>\n",
       "      <td>0.578050</td>\n",
       "      <td>-0.876911</td>\n",
       "      <td>one</td>\n",
       "    </tr>\n",
       "    <tr>\n",
       "      <th>2022-01-03</th>\n",
       "      <td>0.672871</td>\n",
       "      <td>-0.274749</td>\n",
       "      <td>-1.175964</td>\n",
       "      <td>0.949196</td>\n",
       "      <td>two</td>\n",
       "    </tr>\n",
       "    <tr>\n",
       "      <th>2022-01-04</th>\n",
       "      <td>-0.386845</td>\n",
       "      <td>1.498891</td>\n",
       "      <td>0.566511</td>\n",
       "      <td>0.198761</td>\n",
       "      <td>three</td>\n",
       "    </tr>\n",
       "    <tr>\n",
       "      <th>2022-01-05</th>\n",
       "      <td>0.589980</td>\n",
       "      <td>0.417643</td>\n",
       "      <td>-0.469700</td>\n",
       "      <td>-1.181372</td>\n",
       "      <td>four</td>\n",
       "    </tr>\n",
       "    <tr>\n",
       "      <th>2022-01-06</th>\n",
       "      <td>-1.165451</td>\n",
       "      <td>-0.965469</td>\n",
       "      <td>-0.545331</td>\n",
       "      <td>1.525140</td>\n",
       "      <td>three</td>\n",
       "    </tr>\n",
       "  </tbody>\n",
       "</table>\n",
       "</div>"
      ],
      "text/plain": [
       "                ASK1      ASK2      ASK3      ASK4      E\n",
       "2022-01-01 -1.330286  0.215210 -1.502953  0.031244    one\n",
       "2022-01-02  1.301711 -0.274784  0.578050 -0.876911    one\n",
       "2022-01-03  0.672871 -0.274749 -1.175964  0.949196    two\n",
       "2022-01-04 -0.386845  1.498891  0.566511  0.198761  three\n",
       "2022-01-05  0.589980  0.417643 -0.469700 -1.181372   four\n",
       "2022-01-06 -1.165451 -0.965469 -0.545331  1.525140  three"
      ]
     },
     "execution_count": 17,
     "metadata": {},
     "output_type": "execute_result"
    }
   ],
   "source": [
    "df3"
   ]
  },
  {
   "cell_type": "code",
   "execution_count": 18,
   "id": "32015069",
   "metadata": {},
   "outputs": [
    {
     "data": {
      "text/html": [
       "<div>\n",
       "<style scoped>\n",
       "    .dataframe tbody tr th:only-of-type {\n",
       "        vertical-align: middle;\n",
       "    }\n",
       "\n",
       "    .dataframe tbody tr th {\n",
       "        vertical-align: top;\n",
       "    }\n",
       "\n",
       "    .dataframe thead th {\n",
       "        text-align: right;\n",
       "    }\n",
       "</style>\n",
       "<table border=\"1\" class=\"dataframe\">\n",
       "  <thead>\n",
       "    <tr style=\"text-align: right;\">\n",
       "      <th></th>\n",
       "      <th>ASK1</th>\n",
       "      <th>ASK2</th>\n",
       "      <th>ASK3</th>\n",
       "      <th>ASK4</th>\n",
       "      <th>E</th>\n",
       "    </tr>\n",
       "  </thead>\n",
       "  <tbody>\n",
       "    <tr>\n",
       "      <th>2022-01-01</th>\n",
       "      <td>-1.330286</td>\n",
       "      <td>0.215210</td>\n",
       "      <td>-1.502953</td>\n",
       "      <td>0.031244</td>\n",
       "      <td>one</td>\n",
       "    </tr>\n",
       "    <tr>\n",
       "      <th>2022-01-02</th>\n",
       "      <td>1.301711</td>\n",
       "      <td>-0.274784</td>\n",
       "      <td>0.578050</td>\n",
       "      <td>-0.876911</td>\n",
       "      <td>one</td>\n",
       "    </tr>\n",
       "    <tr>\n",
       "      <th>2022-01-03</th>\n",
       "      <td>0.672871</td>\n",
       "      <td>-0.274749</td>\n",
       "      <td>-1.175964</td>\n",
       "      <td>0.949196</td>\n",
       "      <td>two</td>\n",
       "    </tr>\n",
       "  </tbody>\n",
       "</table>\n",
       "</div>"
      ],
      "text/plain": [
       "                ASK1      ASK2      ASK3      ASK4    E\n",
       "2022-01-01 -1.330286  0.215210 -1.502953  0.031244  one\n",
       "2022-01-02  1.301711 -0.274784  0.578050 -0.876911  one\n",
       "2022-01-03  0.672871 -0.274749 -1.175964  0.949196  two"
      ]
     },
     "execution_count": 18,
     "metadata": {},
     "output_type": "execute_result"
    }
   ],
   "source": [
    "df3[df3[\"E\"].isin([\"two\", \"one\"])]"
   ]
  },
  {
   "cell_type": "code",
   "execution_count": 21,
   "id": "cda3d0ec",
   "metadata": {},
   "outputs": [
    {
     "data": {
      "text/plain": [
       "2022-01-01    1\n",
       "2022-01-02    2\n",
       "2022-01-03    3\n",
       "2022-01-04    4\n",
       "2022-01-05    5\n",
       "2022-01-06    6\n",
       "Freq: D, dtype: int64"
      ]
     },
     "execution_count": 21,
     "metadata": {},
     "output_type": "execute_result"
    }
   ],
   "source": [
    "s1 = pd.Series([1,2,3,4,5,6], index=pd.date_range('2022-01-01', periods=6))\n",
    "s1"
   ]
  },
  {
   "cell_type": "code",
   "execution_count": 23,
   "id": "a566a77f",
   "metadata": {},
   "outputs": [
    {
     "data": {
      "text/plain": [
       "2022-01-01    1\n",
       "2022-01-02    2\n",
       "2022-01-03    3\n",
       "2022-01-04    4\n",
       "2022-01-05    5\n",
       "2022-01-06    6\n",
       "Freq: D, Name: F, dtype: int64"
      ]
     },
     "execution_count": 23,
     "metadata": {},
     "output_type": "execute_result"
    }
   ],
   "source": [
    "df3['F']= s1\n",
    "df3['F']"
   ]
  },
  {
   "cell_type": "code",
   "execution_count": 28,
   "id": "6bbf1300",
   "metadata": {},
   "outputs": [
    {
     "data": {
      "text/html": [
       "<div>\n",
       "<style scoped>\n",
       "    .dataframe tbody tr th:only-of-type {\n",
       "        vertical-align: middle;\n",
       "    }\n",
       "\n",
       "    .dataframe tbody tr th {\n",
       "        vertical-align: top;\n",
       "    }\n",
       "\n",
       "    .dataframe thead th {\n",
       "        text-align: right;\n",
       "    }\n",
       "</style>\n",
       "<table border=\"1\" class=\"dataframe\">\n",
       "  <thead>\n",
       "    <tr style=\"text-align: right;\">\n",
       "      <th></th>\n",
       "      <th>ASK1</th>\n",
       "      <th>ASK2</th>\n",
       "      <th>ASK3</th>\n",
       "      <th>ASK4</th>\n",
       "    </tr>\n",
       "  </thead>\n",
       "  <tbody>\n",
       "    <tr>\n",
       "      <th>2022-01-01</th>\n",
       "      <td>-1.330286</td>\n",
       "      <td>0.215210</td>\n",
       "      <td>-1.502953</td>\n",
       "      <td>0.031244</td>\n",
       "    </tr>\n",
       "    <tr>\n",
       "      <th>2022-01-02</th>\n",
       "      <td>1.301711</td>\n",
       "      <td>-0.274784</td>\n",
       "      <td>0.578050</td>\n",
       "      <td>-0.876911</td>\n",
       "    </tr>\n",
       "    <tr>\n",
       "      <th>2022-01-03</th>\n",
       "      <td>0.672871</td>\n",
       "      <td>-0.274749</td>\n",
       "      <td>-1.175964</td>\n",
       "      <td>0.949196</td>\n",
       "    </tr>\n",
       "    <tr>\n",
       "      <th>2022-01-04</th>\n",
       "      <td>-0.386845</td>\n",
       "      <td>1.498891</td>\n",
       "      <td>0.566511</td>\n",
       "      <td>0.198761</td>\n",
       "    </tr>\n",
       "    <tr>\n",
       "      <th>2022-01-05</th>\n",
       "      <td>0.589980</td>\n",
       "      <td>0.417643</td>\n",
       "      <td>-0.469700</td>\n",
       "      <td>-1.181372</td>\n",
       "    </tr>\n",
       "    <tr>\n",
       "      <th>2022-01-06</th>\n",
       "      <td>-1.165451</td>\n",
       "      <td>-0.965469</td>\n",
       "      <td>-0.545331</td>\n",
       "      <td>1.525140</td>\n",
       "    </tr>\n",
       "  </tbody>\n",
       "</table>\n",
       "</div>"
      ],
      "text/plain": [
       "                ASK1      ASK2      ASK3      ASK4\n",
       "2022-01-01 -1.330286  0.215210 -1.502953  0.031244\n",
       "2022-01-02  1.301711 -0.274784  0.578050 -0.876911\n",
       "2022-01-03  0.672871 -0.274749 -1.175964  0.949196\n",
       "2022-01-04 -0.386845  1.498891  0.566511  0.198761\n",
       "2022-01-05  0.589980  0.417643 -0.469700 -1.181372\n",
       "2022-01-06 -1.165451 -0.965469 -0.545331  1.525140"
      ]
     },
     "execution_count": 28,
     "metadata": {},
     "output_type": "execute_result"
    }
   ],
   "source": [
    "df4 = df1.copy()\n",
    "df4"
   ]
  },
  {
   "cell_type": "code",
   "execution_count": 33,
   "id": "4334c625",
   "metadata": {},
   "outputs": [
    {
     "data": {
      "text/html": [
       "<div>\n",
       "<style scoped>\n",
       "    .dataframe tbody tr th:only-of-type {\n",
       "        vertical-align: middle;\n",
       "    }\n",
       "\n",
       "    .dataframe tbody tr th {\n",
       "        vertical-align: top;\n",
       "    }\n",
       "\n",
       "    .dataframe thead th {\n",
       "        text-align: right;\n",
       "    }\n",
       "</style>\n",
       "<table border=\"1\" class=\"dataframe\">\n",
       "  <thead>\n",
       "    <tr style=\"text-align: right;\">\n",
       "      <th></th>\n",
       "      <th>ASK1</th>\n",
       "      <th>ASK2</th>\n",
       "      <th>ASK3</th>\n",
       "      <th>ASK4</th>\n",
       "    </tr>\n",
       "  </thead>\n",
       "  <tbody>\n",
       "    <tr>\n",
       "      <th>2022-01-01</th>\n",
       "      <td>-1.330286</td>\n",
       "      <td>NaN</td>\n",
       "      <td>-1.502953</td>\n",
       "      <td>NaN</td>\n",
       "    </tr>\n",
       "    <tr>\n",
       "      <th>2022-01-02</th>\n",
       "      <td>-1.301711</td>\n",
       "      <td>NaN</td>\n",
       "      <td>NaN</td>\n",
       "      <td>NaN</td>\n",
       "    </tr>\n",
       "    <tr>\n",
       "      <th>2022-01-03</th>\n",
       "      <td>NaN</td>\n",
       "      <td>NaN</td>\n",
       "      <td>-1.175964</td>\n",
       "      <td>NaN</td>\n",
       "    </tr>\n",
       "    <tr>\n",
       "      <th>2022-01-04</th>\n",
       "      <td>NaN</td>\n",
       "      <td>-1.498891</td>\n",
       "      <td>NaN</td>\n",
       "      <td>NaN</td>\n",
       "    </tr>\n",
       "    <tr>\n",
       "      <th>2022-01-05</th>\n",
       "      <td>NaN</td>\n",
       "      <td>NaN</td>\n",
       "      <td>NaN</td>\n",
       "      <td>-1.181372</td>\n",
       "    </tr>\n",
       "    <tr>\n",
       "      <th>2022-01-06</th>\n",
       "      <td>-1.165451</td>\n",
       "      <td>NaN</td>\n",
       "      <td>NaN</td>\n",
       "      <td>-1.525140</td>\n",
       "    </tr>\n",
       "  </tbody>\n",
       "</table>\n",
       "</div>"
      ],
      "text/plain": [
       "                ASK1      ASK2      ASK3      ASK4\n",
       "2022-01-01 -1.330286       NaN -1.502953       NaN\n",
       "2022-01-02 -1.301711       NaN       NaN       NaN\n",
       "2022-01-03       NaN       NaN -1.175964       NaN\n",
       "2022-01-04       NaN -1.498891       NaN       NaN\n",
       "2022-01-05       NaN       NaN       NaN -1.181372\n",
       "2022-01-06 -1.165451       NaN       NaN -1.525140"
      ]
     },
     "execution_count": 33,
     "metadata": {},
     "output_type": "execute_result"
    }
   ],
   "source": [
    "df4[df4>0] = -df4\n",
    "df4.where(df4<-1)"
   ]
  },
  {
   "cell_type": "code",
   "execution_count": 37,
   "id": "13536a5f",
   "metadata": {},
   "outputs": [
    {
     "data": {
      "text/html": [
       "<div>\n",
       "<style scoped>\n",
       "    .dataframe tbody tr th:only-of-type {\n",
       "        vertical-align: middle;\n",
       "    }\n",
       "\n",
       "    .dataframe tbody tr th {\n",
       "        vertical-align: top;\n",
       "    }\n",
       "\n",
       "    .dataframe thead th {\n",
       "        text-align: right;\n",
       "    }\n",
       "</style>\n",
       "<table border=\"1\" class=\"dataframe\">\n",
       "  <thead>\n",
       "    <tr style=\"text-align: right;\">\n",
       "      <th></th>\n",
       "      <th>ASK1</th>\n",
       "      <th>ASK2</th>\n",
       "      <th>ASK3</th>\n",
       "      <th>ASK4</th>\n",
       "      <th>E</th>\n",
       "    </tr>\n",
       "  </thead>\n",
       "  <tbody>\n",
       "    <tr>\n",
       "      <th>2022-01-01</th>\n",
       "      <td>-1.330286</td>\n",
       "      <td>0.215210</td>\n",
       "      <td>-1.502953</td>\n",
       "      <td>0.031244</td>\n",
       "      <td>NaN</td>\n",
       "    </tr>\n",
       "    <tr>\n",
       "      <th>2022-01-02</th>\n",
       "      <td>1.301711</td>\n",
       "      <td>-0.274784</td>\n",
       "      <td>0.578050</td>\n",
       "      <td>-0.876911</td>\n",
       "      <td>NaN</td>\n",
       "    </tr>\n",
       "    <tr>\n",
       "      <th>2022-01-03</th>\n",
       "      <td>0.672871</td>\n",
       "      <td>-0.274749</td>\n",
       "      <td>-1.175964</td>\n",
       "      <td>0.949196</td>\n",
       "      <td>1.0</td>\n",
       "    </tr>\n",
       "    <tr>\n",
       "      <th>2022-01-04</th>\n",
       "      <td>-0.386845</td>\n",
       "      <td>1.498891</td>\n",
       "      <td>0.566511</td>\n",
       "      <td>0.198761</td>\n",
       "      <td>1.0</td>\n",
       "    </tr>\n",
       "  </tbody>\n",
       "</table>\n",
       "</div>"
      ],
      "text/plain": [
       "                ASK1      ASK2      ASK3      ASK4    E\n",
       "2022-01-01 -1.330286  0.215210 -1.502953  0.031244  NaN\n",
       "2022-01-02  1.301711 -0.274784  0.578050 -0.876911  NaN\n",
       "2022-01-03  0.672871 -0.274749 -1.175964  0.949196  1.0\n",
       "2022-01-04 -0.386845  1.498891  0.566511  0.198761  1.0"
      ]
     },
     "execution_count": 37,
     "metadata": {},
     "output_type": "execute_result"
    }
   ],
   "source": [
    "df5 = df1.reindex(index=dates[0:4], columns=list(df1.columns) + [\"E\"])\n",
    "df5.loc[dates[2] : dates[3], \"E\"] = 1\n",
    "df5"
   ]
  },
  {
   "cell_type": "code",
   "execution_count": 38,
   "id": "452f66e2",
   "metadata": {},
   "outputs": [
    {
     "data": {
      "text/html": [
       "<div>\n",
       "<style scoped>\n",
       "    .dataframe tbody tr th:only-of-type {\n",
       "        vertical-align: middle;\n",
       "    }\n",
       "\n",
       "    .dataframe tbody tr th {\n",
       "        vertical-align: top;\n",
       "    }\n",
       "\n",
       "    .dataframe thead th {\n",
       "        text-align: right;\n",
       "    }\n",
       "</style>\n",
       "<table border=\"1\" class=\"dataframe\">\n",
       "  <thead>\n",
       "    <tr style=\"text-align: right;\">\n",
       "      <th></th>\n",
       "      <th>ASK1</th>\n",
       "      <th>ASK2</th>\n",
       "      <th>ASK3</th>\n",
       "      <th>ASK4</th>\n",
       "      <th>E</th>\n",
       "    </tr>\n",
       "  </thead>\n",
       "  <tbody>\n",
       "    <tr>\n",
       "      <th>2022-01-03</th>\n",
       "      <td>0.672871</td>\n",
       "      <td>-0.274749</td>\n",
       "      <td>-1.175964</td>\n",
       "      <td>0.949196</td>\n",
       "      <td>1.0</td>\n",
       "    </tr>\n",
       "    <tr>\n",
       "      <th>2022-01-04</th>\n",
       "      <td>-0.386845</td>\n",
       "      <td>1.498891</td>\n",
       "      <td>0.566511</td>\n",
       "      <td>0.198761</td>\n",
       "      <td>1.0</td>\n",
       "    </tr>\n",
       "  </tbody>\n",
       "</table>\n",
       "</div>"
      ],
      "text/plain": [
       "                ASK1      ASK2      ASK3      ASK4    E\n",
       "2022-01-03  0.672871 -0.274749 -1.175964  0.949196  1.0\n",
       "2022-01-04 -0.386845  1.498891  0.566511  0.198761  1.0"
      ]
     },
     "execution_count": 38,
     "metadata": {},
     "output_type": "execute_result"
    }
   ],
   "source": [
    "df5.dropna(how=\"any\")"
   ]
  },
  {
   "cell_type": "code",
   "execution_count": 39,
   "id": "a98219eb",
   "metadata": {},
   "outputs": [
    {
     "data": {
      "text/html": [
       "<div>\n",
       "<style scoped>\n",
       "    .dataframe tbody tr th:only-of-type {\n",
       "        vertical-align: middle;\n",
       "    }\n",
       "\n",
       "    .dataframe tbody tr th {\n",
       "        vertical-align: top;\n",
       "    }\n",
       "\n",
       "    .dataframe thead th {\n",
       "        text-align: right;\n",
       "    }\n",
       "</style>\n",
       "<table border=\"1\" class=\"dataframe\">\n",
       "  <thead>\n",
       "    <tr style=\"text-align: right;\">\n",
       "      <th></th>\n",
       "      <th>ASK1</th>\n",
       "      <th>ASK2</th>\n",
       "      <th>ASK3</th>\n",
       "      <th>ASK4</th>\n",
       "      <th>E</th>\n",
       "    </tr>\n",
       "  </thead>\n",
       "  <tbody>\n",
       "    <tr>\n",
       "      <th>2022-01-01</th>\n",
       "      <td>-1.330286</td>\n",
       "      <td>0.215210</td>\n",
       "      <td>-1.502953</td>\n",
       "      <td>0.031244</td>\n",
       "      <td>4.0</td>\n",
       "    </tr>\n",
       "    <tr>\n",
       "      <th>2022-01-02</th>\n",
       "      <td>1.301711</td>\n",
       "      <td>-0.274784</td>\n",
       "      <td>0.578050</td>\n",
       "      <td>-0.876911</td>\n",
       "      <td>4.0</td>\n",
       "    </tr>\n",
       "    <tr>\n",
       "      <th>2022-01-03</th>\n",
       "      <td>0.672871</td>\n",
       "      <td>-0.274749</td>\n",
       "      <td>-1.175964</td>\n",
       "      <td>0.949196</td>\n",
       "      <td>1.0</td>\n",
       "    </tr>\n",
       "    <tr>\n",
       "      <th>2022-01-04</th>\n",
       "      <td>-0.386845</td>\n",
       "      <td>1.498891</td>\n",
       "      <td>0.566511</td>\n",
       "      <td>0.198761</td>\n",
       "      <td>1.0</td>\n",
       "    </tr>\n",
       "  </tbody>\n",
       "</table>\n",
       "</div>"
      ],
      "text/plain": [
       "                ASK1      ASK2      ASK3      ASK4    E\n",
       "2022-01-01 -1.330286  0.215210 -1.502953  0.031244  4.0\n",
       "2022-01-02  1.301711 -0.274784  0.578050 -0.876911  4.0\n",
       "2022-01-03  0.672871 -0.274749 -1.175964  0.949196  1.0\n",
       "2022-01-04 -0.386845  1.498891  0.566511  0.198761  1.0"
      ]
     },
     "execution_count": 39,
     "metadata": {},
     "output_type": "execute_result"
    }
   ],
   "source": [
    "df5.fillna(value=4)"
   ]
  },
  {
   "cell_type": "code",
   "execution_count": 52,
   "id": "37444fd4",
   "metadata": {},
   "outputs": [
    {
     "data": {
      "text/html": [
       "<div>\n",
       "<style scoped>\n",
       "    .dataframe tbody tr th:only-of-type {\n",
       "        vertical-align: middle;\n",
       "    }\n",
       "\n",
       "    .dataframe tbody tr th {\n",
       "        vertical-align: top;\n",
       "    }\n",
       "\n",
       "    .dataframe thead th {\n",
       "        text-align: right;\n",
       "    }\n",
       "</style>\n",
       "<table border=\"1\" class=\"dataframe\">\n",
       "  <thead>\n",
       "    <tr style=\"text-align: right;\">\n",
       "      <th></th>\n",
       "      <th>ASK1</th>\n",
       "      <th>ASK2</th>\n",
       "      <th>ASK3</th>\n",
       "      <th>ASK4</th>\n",
       "      <th>E</th>\n",
       "    </tr>\n",
       "  </thead>\n",
       "  <tbody>\n",
       "    <tr>\n",
       "      <th>2022-01-01</th>\n",
       "      <td>False</td>\n",
       "      <td>False</td>\n",
       "      <td>False</td>\n",
       "      <td>False</td>\n",
       "      <td>True</td>\n",
       "    </tr>\n",
       "    <tr>\n",
       "      <th>2022-01-02</th>\n",
       "      <td>False</td>\n",
       "      <td>False</td>\n",
       "      <td>False</td>\n",
       "      <td>False</td>\n",
       "      <td>True</td>\n",
       "    </tr>\n",
       "    <tr>\n",
       "      <th>2022-01-03</th>\n",
       "      <td>False</td>\n",
       "      <td>False</td>\n",
       "      <td>False</td>\n",
       "      <td>False</td>\n",
       "      <td>False</td>\n",
       "    </tr>\n",
       "    <tr>\n",
       "      <th>2022-01-04</th>\n",
       "      <td>False</td>\n",
       "      <td>False</td>\n",
       "      <td>False</td>\n",
       "      <td>False</td>\n",
       "      <td>False</td>\n",
       "    </tr>\n",
       "  </tbody>\n",
       "</table>\n",
       "</div>"
      ],
      "text/plain": [
       "             ASK1   ASK2   ASK3   ASK4      E\n",
       "2022-01-01  False  False  False  False   True\n",
       "2022-01-02  False  False  False  False   True\n",
       "2022-01-03  False  False  False  False  False\n",
       "2022-01-04  False  False  False  False  False"
      ]
     },
     "execution_count": 52,
     "metadata": {},
     "output_type": "execute_result"
    }
   ],
   "source": [
    "pd.isna(df5)"
   ]
  },
  {
   "cell_type": "code",
   "execution_count": 56,
   "id": "e0537117",
   "metadata": {},
   "outputs": [
    {
     "name": "stdout",
     "output_type": "stream",
     "text": [
      "type in any number: 3\n",
      "<class 'int'>\n"
     ]
    }
   ],
   "source": [
    "inp = int(input('type in any number: '))\n",
    "while inp>1:\n",
    "    for i in range(2,inp//2):\n",
    "        print(i)\n",
    "        \n",
    "    break\n",
    "        \n",
    "print(type(inp))"
   ]
  },
  {
   "cell_type": "code",
   "execution_count": null,
   "id": "010d29a2",
   "metadata": {},
   "outputs": [],
   "source": [
    "x = int(input('Type in a prime number:'))\n"
   ]
  }
 ],
 "metadata": {
  "kernelspec": {
   "display_name": "Python 3",
   "language": "python",
   "name": "python3"
  },
  "language_info": {
   "codemirror_mode": {
    "name": "ipython",
    "version": 3
   },
   "file_extension": ".py",
   "mimetype": "text/x-python",
   "name": "python",
   "nbconvert_exporter": "python",
   "pygments_lexer": "ipython3",
   "version": "3.9.2"
  }
 },
 "nbformat": 4,
 "nbformat_minor": 5
}
